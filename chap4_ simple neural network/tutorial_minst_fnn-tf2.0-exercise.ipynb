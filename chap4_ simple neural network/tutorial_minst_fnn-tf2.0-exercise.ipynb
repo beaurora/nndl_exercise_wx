{
 "cells": [
  {
   "cell_type": "markdown",
   "metadata": {},
   "source": [
    "## 准备数据"
   ]
  },
  {
   "cell_type": "code",
   "execution_count": 1,
   "metadata": {},
   "outputs": [],
   "source": [
    "import os\n",
    "import numpy as np\n",
    "import tensorflow as tf\n",
    "from tensorflow import keras\n",
    "from tensorflow.keras import layers, optimizers, datasets\n",
    "\n",
    "os.environ['TF_CPP_MIN_LOG_LEVEL'] = '2'  # or any {'0', '1', '2'}\n",
    "\n",
    "mnist_path = \"./mnist.npz\"\n",
    "\n",
    "def mnist_dataset():\n",
    "    (x, y), (x_test, y_test) = datasets.mnist.load_data(path=mnist_path)\n",
    "    #normalize\n",
    "    x = x/255.0\n",
    "    x_test = x_test/255.0\n",
    "    \n",
    "    return (x, y), (x_test, y_test)"
   ]
  },
  {
   "cell_type": "code",
   "execution_count": 2,
   "metadata": {},
   "outputs": [
    {
     "name": "stdout",
     "output_type": "stream",
     "text": [
      "[(1, 'a'), (2, 'b'), (3, 'c'), (4, 'd')]\n"
     ]
    }
   ],
   "source": [
    "print(list(zip([1, 2, 3, 4], ['a', 'b', 'c', 'd'])))"
   ]
  },
  {
   "cell_type": "markdown",
   "metadata": {},
   "source": [
    "## 建立模型"
   ]
  },
  {
   "cell_type": "code",
   "execution_count": 3,
   "metadata": {},
   "outputs": [],
   "source": [
    "class myModel:\n",
    "    def __init__(self):\n",
    "        ####################\n",
    "        '''声明模型对应的参数'''\n",
    "        self.W1 = tf.Variable(shape=[28*28, 100], dtype=tf.float32,\n",
    "                         initial_value=tf.random.uniform(shape=[28*28, 100],\n",
    "                                                         minval=-0.1, maxval=0.1))\n",
    "        self.b1 = tf.Variable(shape=[100], dtype=tf.float32, initial_value=tf.zeros(100))\n",
    "        self.W2 = tf.Variable(shape=[100, 10], dtype=tf.float32,\n",
    "                         initial_value=tf.random.uniform(shape=[100, 10],\n",
    "                                                         minval=-0.1, maxval=0.1))\n",
    "        self.b2 = tf.Variable(shape=[10], dtype=tf.float32, initial_value=tf.zeros(10))\n",
    "        self.trainable_variables = [self.W1, self.W2, self.b1, self.b2]\n",
    "        ####################\n",
    "    def __call__(self, x):\n",
    "        ####################\n",
    "        '''实现模型函数体，返回未归一化的logits'''\n",
    "        ####################\n",
    "        flat_x = tf.reshape(x, shape=[-1, 28*28])\n",
    "        h1 = tf.tanh(tf.matmul(flat_x, self.W1) + self.b1)\n",
    "        logits = tf.matmul(h1, self.W2) + self.b2\n",
    "        return logits\n",
    "        \n",
    "model = myModel()\n",
    "\n",
    "optimizer = optimizers.Adam()"
   ]
  },
  {
   "cell_type": "markdown",
   "metadata": {},
   "source": [
    "## 计算 loss"
   ]
  },
  {
   "cell_type": "code",
   "execution_count": 4,
   "metadata": {},
   "outputs": [],
   "source": [
    "@tf.function\n",
    "def compute_loss(logits, labels):\n",
    "    return tf.reduce_mean(\n",
    "        tf.nn.sparse_softmax_cross_entropy_with_logits(\n",
    "            logits=logits, labels=labels))\n",
    "\n",
    "@tf.function\n",
    "def compute_accuracy(logits, labels):\n",
    "    predictions = tf.argmax(logits, axis=1)\n",
    "    return tf.reduce_mean(tf.cast(tf.equal(predictions, labels), tf.float32))\n",
    "\n",
    "@tf.function\n",
    "def train_one_step(model, optimizer, x, y):\n",
    "    with tf.GradientTape() as tape:\n",
    "        logits = model(x)\n",
    "        loss = compute_loss(logits, y)\n",
    "\n",
    "    # compute gradient\n",
    "    trainable_vars = [model.W1, model.W2, model.b1, model.b2]\n",
    "    grads = tape.gradient(loss, trainable_vars)\n",
    "    for g, v in zip(grads, trainable_vars):\n",
    "        v.assign_sub(0.01*g)\n",
    "\n",
    "    accuracy = compute_accuracy(logits, y)\n",
    "\n",
    "    # loss and accuracy is scalar tensor\n",
    "    return loss, accuracy\n",
    "\n",
    "@tf.function\n",
    "def test(model, x, y):\n",
    "    logits = model(x)\n",
    "    loss = compute_loss(logits, y)\n",
    "    accuracy = compute_accuracy(logits, y)\n",
    "    return loss, accuracy"
   ]
  },
  {
   "cell_type": "markdown",
   "metadata": {},
   "source": [
    "## 实际训练"
   ]
  },
  {
   "cell_type": "code",
   "execution_count": 10,
   "metadata": {},
   "outputs": [
    {
     "name": "stdout",
     "output_type": "stream",
     "text": [
      "epoch 0 : loss 1.7349437 ; accuracy 0.6217167\n",
      "epoch 1 : loss 1.7312933 ; accuracy 0.62308335\n",
      "epoch 2 : loss 1.7276508 ; accuracy 0.62438333\n",
      "epoch 3 : loss 1.7240158 ; accuracy 0.62563336\n",
      "epoch 4 : loss 1.720389 ; accuracy 0.62685\n",
      "epoch 5 : loss 1.7167702 ; accuracy 0.62808335\n",
      "epoch 6 : loss 1.7131591 ; accuracy 0.62895\n",
      "epoch 7 : loss 1.7095561 ; accuracy 0.62993336\n",
      "epoch 8 : loss 1.7059611 ; accuracy 0.63098335\n",
      "epoch 9 : loss 1.7023741 ; accuracy 0.63208336\n",
      "epoch 10 : loss 1.6987951 ; accuracy 0.63296664\n",
      "epoch 11 : loss 1.6952242 ; accuracy 0.6339833\n",
      "epoch 12 : loss 1.6916612 ; accuracy 0.63525\n",
      "epoch 13 : loss 1.6881065 ; accuracy 0.63631666\n",
      "epoch 14 : loss 1.68456 ; accuracy 0.6373\n",
      "epoch 15 : loss 1.6810213 ; accuracy 0.6383833\n",
      "epoch 16 : loss 1.6774912 ; accuracy 0.63951665\n",
      "epoch 17 : loss 1.6739688 ; accuracy 0.64045\n",
      "epoch 18 : loss 1.670455 ; accuracy 0.64163333\n",
      "epoch 19 : loss 1.6669493 ; accuracy 0.643\n",
      "epoch 20 : loss 1.6634517 ; accuracy 0.64411664\n",
      "epoch 21 : loss 1.6599623 ; accuracy 0.64525\n",
      "epoch 22 : loss 1.6564814 ; accuracy 0.64606667\n",
      "epoch 23 : loss 1.6530086 ; accuracy 0.64701664\n",
      "epoch 24 : loss 1.6495442 ; accuracy 0.64805\n",
      "epoch 25 : loss 1.6460882 ; accuracy 0.64888334\n",
      "epoch 26 : loss 1.6426406 ; accuracy 0.64958334\n",
      "epoch 27 : loss 1.6392013 ; accuracy 0.65036666\n",
      "epoch 28 : loss 1.6357706 ; accuracy 0.6512167\n",
      "epoch 29 : loss 1.632348 ; accuracy 0.6521\n",
      "epoch 30 : loss 1.6289339 ; accuracy 0.65305\n",
      "epoch 31 : loss 1.6255283 ; accuracy 0.65393335\n",
      "epoch 32 : loss 1.622131 ; accuracy 0.65503335\n",
      "epoch 33 : loss 1.6187425 ; accuracy 0.656\n",
      "epoch 34 : loss 1.6153623 ; accuracy 0.6567\n",
      "epoch 35 : loss 1.6119908 ; accuracy 0.65753335\n",
      "epoch 36 : loss 1.6086276 ; accuracy 0.6588\n",
      "epoch 37 : loss 1.605273 ; accuracy 0.6595333\n",
      "epoch 38 : loss 1.601927 ; accuracy 0.6604667\n",
      "epoch 39 : loss 1.5985895 ; accuracy 0.66106665\n",
      "epoch 40 : loss 1.595261 ; accuracy 0.6616667\n",
      "epoch 41 : loss 1.5919406 ; accuracy 0.6627167\n",
      "epoch 42 : loss 1.5886291 ; accuracy 0.6634167\n",
      "epoch 43 : loss 1.5853261 ; accuracy 0.66428334\n",
      "epoch 44 : loss 1.5820318 ; accuracy 0.66511667\n",
      "epoch 45 : loss 1.5787462 ; accuracy 0.66575\n",
      "epoch 46 : loss 1.5754693 ; accuracy 0.66655\n",
      "epoch 47 : loss 1.572201 ; accuracy 0.66711664\n",
      "epoch 48 : loss 1.5689417 ; accuracy 0.6679\n",
      "epoch 49 : loss 1.5656908 ; accuracy 0.66861665\n",
      "test loss 1.5414549 ; accuracy 0.6858\n"
     ]
    }
   ],
   "source": [
    "train_data, test_data = mnist_dataset()\n",
    "for epoch in range(50):\n",
    "    loss, accuracy = train_one_step(model, optimizer, \n",
    "                                    tf.constant(train_data[0], dtype=tf.float32), \n",
    "                                    tf.constant(train_data[1], dtype=tf.int64))\n",
    "    print('epoch', epoch, ': loss', loss.numpy(), '; accuracy', accuracy.numpy())\n",
    "loss, accuracy = test(model, \n",
    "                      tf.constant(test_data[0], dtype=tf.float32), \n",
    "                      tf.constant(test_data[1], dtype=tf.int64))\n",
    "\n",
    "print('test loss', loss.numpy(), '; accuracy', accuracy.numpy())"
   ]
  }
 ],
 "metadata": {
  "kernelspec": {
   "display_name": "Python 3",
   "language": "python",
   "name": "python3"
  },
  "language_info": {
   "codemirror_mode": {
    "name": "ipython",
    "version": 3
   },
   "file_extension": ".py",
   "mimetype": "text/x-python",
   "name": "python",
   "nbconvert_exporter": "python",
   "pygments_lexer": "ipython3",
   "version": "3.9.13"
  }
 },
 "nbformat": 4,
 "nbformat_minor": 2
}
